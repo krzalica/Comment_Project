{
 "cells": [
  {
   "cell_type": "code",
   "execution_count": 91,
   "metadata": {
    "collapsed": false
   },
   "outputs": [
   ],
   "source": [
    "import csv\n",
    "header = ['Full Name','Pronoun','Class Work Ethic','Assignments','Problem Sets','Tests','Projects','Teacher Meeting','Progress', 'Add. Info Category','Additional Info']\n",
    "kanye = ['Kanye West','he/him/his','wonderful',7,[78,70,72,93,94],[88,78,90,98,95],90,3,8,'Teacher Meeting','Kanye and I have great discussions.']\n",
    "kamran = ['Kamran Azarnia', 'he/him/his','excellent',8,[99,98,95,89,90],[99,88,89,91,90],89,2,9,'Progress','Kamran struggled a lot in this class.']\n",
    "amina = ['Amina Arthit','she/her/her','weak',3,[20,37,45,47,35],[89,91,88,87,99],68,0,4,'Projects','Her project was turned in a week late.']\n",
    "gates = ['Bill Gates','he/him/his','brilliant',10,[100,100,100,100,100],[100,100,100,100,100],100,0,0,'Personality','Now, he is a CEO. He is very creative. ']\n",
    "students = [kanye,kamran,amina,gates]\n",
    "with open('teacher.csv','w') as csvfile:\n",
    "    teacher = csv.writer(csvfile,delimiter=',')\n",
    "    teacher.writerow(header)\n",
    "    for student in students:\n",
    "        teacher.writerow(student)"
   ]
  },
  {
   "cell_type": "code",
   "execution_count": 92,
   "metadata": {
    "collapsed": false
   },
   "outputs": [
   ],
   "source": [
    "import csv\n",
    "import re"
   ]
  },
  {
   "cell_type": "code",
   "execution_count": 93,
   "metadata": {
    "collapsed": false
   },
   "outputs": [
   ],
   "source": [
    "classdescription = 'In Computer Science second semester, we focused on data science rather than simply working on the students\\' python skills. In five units, we covered linear regressions, natural language processing, naive bayes algorithms, standard variable decomposition, and pandas. For every unit, the students had one week to work on a non-graded assignment introducing the material, and the next week would spend their time on a problem set before a handwritten test on that Friday. Our only project this semester was one in which the students had to use code to simulate thousands of bank service days and offer solutions for lowering the wait time of patrons.'"
   ]
  },
  {
   "cell_type": "code",
   "execution_count": 94,
   "metadata": {
    "cocalc": {
     "outputs": {
      "0": {
       "name": "input",
       "opts": {
        "password": false,
        "prompt": ""
       },
       "output_type": "stream",
       "value": ""
      },
      "1": {
       "name": "input",
       "opts": {
        "password": false,
        "prompt": ""
       },
       "output_type": "stream",
       "value": ""
      },
      "2": {
       "name": "input",
       "opts": {
        "password": false,
        "prompt": ""
       },
       "output_type": "stream"
      },
      "3": {
       "name": "input",
       "opts": {
        "password": false,
        "prompt": ""
       },
       "output_type": "stream",
       "value": ""
      }
     }
    },
    "collapsed": false
   },
   "outputs": [
   ],
   "source": [
    "# append to file function\n",
    "# import csv\n",
    "# def add(file,num = 1):\n",
    "#     ''' This function will append text data into the csv file with input corresponding to the number of data'''\n",
    "#     with open(file,'a') as fp:\n",
    "#         writer = csv.writer(fp)\n",
    "#         text = []\n",
    "#         for i in range(num):\n",
    "#             text.append(input())\n",
    "#         while text != '':\n",
    "#             writer.writerow([text])\n",
    "#             text = input()\n",
    "# add('data/test_recom.csv',2)"
   ]
  },
  {
   "cell_type": "code",
   "execution_count": 95,
   "metadata": {
    "collapsed": false
   },
   "outputs": [
    {
     "data": {
      "text/plain": [
       "[['figure out the weak point and find the problem set that {} can practice more.'],\n",
       " ['give some sources or techniques that can help {} improve on in-class exams.'],\n",
       " ['find some more techniques.']]"
      ]
     },
     "execution_count": 95,
     "metadata": {
     },
     "output_type": "execute_result"
    }
   ],
   "source": [
    "def get(file):\n",
    "    ''' This function will return the list of data from the csv file'''\n",
    "    with open(file) as fp:\n",
    "        data = csv.reader(fp,delimiter='\\n')\n",
    "        return list(data)\n",
    "get('data/test_solution.csv')"
   ]
  },
  {
   "cell_type": "code",
   "execution_count": 96,
   "metadata": {
    "collapsed": false
   },
   "outputs": [
   ],
   "source": [
    "def score_overall(data):\n",
    "    ''' Return how doing well in the class and growth as a tuple value'''\n",
    "    score = sum(data)/len(data)\n",
    "    growth = 0\n",
    "    weight = 1\n",
    "    for i in range(1,len(data)):\n",
    "        growth = (data[i]-data[i-1])*weight\n",
    "        weight += 1\n",
    "    return (score,growth)"
   ]
  },
  {
   "cell_type": "code",
   "execution_count": 97,
   "metadata": {
    "collapsed": false
   },
   "outputs": [
   ],
   "source": [
    "#plan for ethic assign probset and test \n",
    "# Index , Type\n",
    "# 0 ,   Name\n",
    "# 1 , Pronoun\n",
    "# 2 , Ethic work\n",
    "# 3 , Assignment\n",
    "# 4 , Problem Set\n",
    "# 5 , Test\n",
    "# synonym_dictionary\n",
    "# first paragraph - ethic and assign and and in the problemset\n",
    "# 1. class_commitment()\n",
    "# 2. pattern_describe() // can be used in second paragraph as well\n",
    "# second paragraph - test and how growth on the test and test_recom\n",
    "# 1. test_recom()\n",
    "# 2. pattern_describe()"
   ]
  },
  {
   "cell_type": "code",
   "execution_count": 98,
   "metadata": {
    "collapsed": false
   },
   "outputs": [
   ],
   "source": [
    "syn_dict = {\n",
    "    'A' : ['absolutely perfect', 'fantastically awesome','brilliant','outstanding','sophisticated','well-rounded'],\n",
    "    'B' : ['very good','excellent','nice','really good','suave'],\n",
    "    'C' : ['not bad', 'good', ''],\n",
    "    'D' : ['a little bit struggling','still learning'],\n",
    "    'F' : ['not that good', 'required to study more'],\n",
    "    'AC' : [\"try something new, and challenge himself more by improving his code complexity, and simplifying his code. You can try some method that he hasn't done before.\",\n",
    "            \"try to looking for several projects. There are a lot of things that he can do with the computer science. If coding is too easy to you, try to think about optmization and simplicity that can develope your code to be more wonderful and sophisticated.\"],\n",
    "    'BC' : [\"ask me when you have any question. You can try to do more coding task from some websites such as, codeforces, csacademy, topcoder, hacker rank, etc. If you practice more, your code will be flawless eventually.\",\n",
    "            \"try to do more task for deeply understanding. If you have a question, stop by my office so I can give you some simple example that you can understand better.\"],\n",
    "    'CC' : [\"pay more attention in the class, take a time for the assignment and the problemset. If you got stuck from the assignment, you should ask for a help by sending me an email, or stopping by my office.\",\n",
    "            \"sit on the front of the room. So you will not lose your focus, and you can hear me well when I clarify something about code.\"],\n",
    "    'DC' : [\"do a problemset more, you can ask me to extend the deadline for the problemset if you need. So you can do the problemset slowly and get deep understanding.\",\n",
    "            \"try to plan on a scratch paper before coding, to make your code more clean and avoid some bugs. In addition, you will get some good idea for coding when you write down on your scratch paper. If you had strucked for a long time, come to ask me by sending me an email or stopping by my office. So I can give you an easy task that you can understand easily.\"],\n",
    "    'FC' : [\"come to talk to me as soon as you have a free time. So I can give you more special problemset to develop your understanding. Additionally, I can make a plan with you to figure out the best way to make you learn better.\",\n",
    "           \"meet me when you have a time. So we can plan the best way for you to learn coding. I want to know your problem on coding, so we can solve that problem. I believe that if we plan for the best way to learn for you, you will incredibly improve on coding.\"],\n",
    "    'ethic' : ['ethic','student habit','in-class behavior'],\n",
    "    'positive': ['did a very good job in developing his coding skill, his growth is dramatically increasing',\n",
    "                 'did an amazing job on his programming skill improvement, his growth is incredibly increasing',\n",
    "                 'is really improved. According to his growth, He put his effort seriously on improving.',\n",
    "                 'is fantansic on his coding skill development. His growth is amazingly increasing'],\n",
    "    'consistent' : ['did a good job on studying. He has a good track in overall. Moreover, his progress on coding is good.',\n",
    "                    'did a nice job on staying on track. His coding skill is very good. He can control his progress very well. In overall his progress is good.'],\n",
    "    'negative' : ['has to keep studying a little bit. I also saw his commitment in his heart. However, it would be better to avoid the same mistake by taking note and coding repeatly. I believe that you can improve more.',\n",
    "                 'has to plan in advance for the upcomming test and problemset. So he can use your skill at the highest performance.'],\n",
    "    'homework' : ['homework','assignment','coding assignment'],\n",
    "    'problem set' : ['problemset','task'],\n",
    "    'test' : ['exam','test']\n",
    "}\n",
    "# Which pronoun when we have to use 'you' or 'his' , 'her' ?"
   ]
  },
  {
   "cell_type": "code",
   "execution_count": 99,
   "metadata": {
    "collapsed": false
   },
   "outputs": [
   ],
   "source": [
    "import random as rand\n",
    "def get_syn(key):\n",
    "    ''' Take a word and return the synonym of that word randomly'''\n",
    "    idx = rand.randint(0,len(syn_dict[key])-1)\n",
    "    return syn_dict[key][idx]"
   ]
  },
  {
   "cell_type": "code",
   "execution_count": 100,
   "metadata": {
    "collapsed": false
   },
   "outputs": [
   ],
   "source": [
    "def pattern_describe(category, data, name, pn):\n",
    "    ''' This function will generate the comment about the overall of data. Tell the minimum and maximum (in case if there are multiple data).\n",
    "    Also, give the recommendation in the last.'''\n",
    "    if type(data) == list:\n",
    "        score, growth = score_overall(data)\n",
    "    if type(data) == int:\n",
    "        score = data*10\n",
    "        growth = 0\n",
    "    if score >= 90:\n",
    "        level = 'A'\n",
    "    elif score >= 80:\n",
    "        level = 'B'\n",
    "    elif score >= 70:\n",
    "        level = 'C'\n",
    "    elif score >= 60:\n",
    "        level = 'D'\n",
    "    else:\n",
    "        level = 'F'\n",
    "    if growth < 0 :\n",
    "        speed = 'positive'\n",
    "    elif growth == 0:\n",
    "        speed = 'consistent'\n",
    "    else:\n",
    "        speed = 'negative'\n",
    "    comment = level + 'C'\n",
    "    if type(data) == list:\n",
    "        if level != 'F':\n",
    "            text = f\"{pn[0]} is {get_syn(level)}. {pn[0].title()} got the minimum score at {min(data)} and maximum score at {max(data)}, which is {get_syn(level)}. In overall, {pn[0]} got {level} from the {category}. {pn[0].title()} {get_syn(speed)}. I recommend {name} to {get_syn(comment)}.\"\n",
    "        else:\n",
    "            text = f\"{pn[0].title()} might have to talk to me. {pn[0].title()} didn't get a good score that much. {pn[0].title()} got the minimum score at {min(data)} and maximum score at {max(data)}, which is {get_syn(level)}. I recommend {name} to {get_syn(comment)}.\"\n",
    "    elif type(data) == int:\n",
    "        text = f\"{pn[0].title()} is {get_syn(level)}. {pn[0].title()} completed {data*10}% of the assignment.\"\n",
    "    # don't forget to put replace in case of 'she/her' pronoun\n",
    "    if pn[0] == 'she':\n",
    "        text.replace('his','her')\n",
    "        text.replace('His','Her')\n",
    "        text.replace('He','She')\n",
    "        text.replace('he','she')\n",
    "        text.replace('him','her')\n",
    "    return text"
   ]
  },
  {
   "cell_type": "code",
   "execution_count": 101,
   "metadata": {
    "collapsed": false
   },
   "outputs": [
   ],
   "source": [
    "def class_commitment(row):\n",
    "    name,ethic,assign,probset,test = row[0],row[2],row[3],row[4],row[5]\n",
    "    pn = row[1].split('/')\n",
    "    text = f\"{name} has a {ethic} {get_syn('ethic')}. {pattern_describe(get_syn('homework'),assign,name,pn)}. For the problemset, {pattern_describe(get_syn('problem set'),probset,name,pn)}.\"\n",
    "    return text + \"\\n\""
   ]
  },
  {
   "cell_type": "code",
   "execution_count": 102,
   "metadata": {
    "collapsed": false
   },
   "outputs": [
   ],
   "source": [
    "import random as rand\n",
    "def test_recom(row):\n",
    "    ''' given name of student, tuple of pronoun, the number of score that we evaluated(rank) to choose the solution and return the test                 recommendation text'''\n",
    "    name,test = row[0],row[5]\n",
    "    pn = row[1].split('/')\n",
    "    #solution = get('data/test_solution.csv') # use format only first pronoun\n",
    "    text = f\"For the test, {pattern_describe(get_syn('test'),test,name,pn)}.\"\n",
    "    return text + '\\n'"
   ]
  },
  {
   "cell_type": "code",
   "execution_count": 143,
   "metadata": {
    "collapsed": false
   },
   "outputs": [
    {
     "data": {
      "text/plain": [
       "['Kanye West has a wonderful student habit. He is not bad. He completed 70% of the assignment. For the problemset, he is excellent. He got the minimum score at 70 and maximum score at 94, which is really good. In overall, he got B from the task. He has to keep studying a little bit. I also saw his commitment in his heart. However, it would be better to avoid the same mistake by taking note and coding repeatly. I believe that you can improve more. I recommend Kanye West to try to do more task for deeply understanding. If you have a question, stop by my office so I can give you some simple example that you can understand better.\\n\\nFor the test, he is excellent. He got the minimum score at 78 and maximum score at 98, which is nice. In overall, he got B from the test. He did a very good job in developing his coding skill, his growth is dramatically increasing. I recommend Kanye West to ask me when you have any question. You can try to do more coding task from some websites such as, codeforces, csacademy, topcoder, hacker rank, etc. If you practice more, your code will be flawless eventually.\\n',\n",
       " \"Kamran Azarnia has a excellent student habit. He is nice. He completed 80% of the assignment. For the problemset, he is sophisticated. He got the minimum score at 89 and maximum score at 99, which is sophisticated. In overall, he got A from the task. He has to keep studying a little bit. I also saw his commitment in his heart. However, it would be better to avoid the same mistake by taking note and coding repeatly. I believe that you can improve more. I recommend Kamran Azarnia to try something new, and challenge himself more by improving his code complexity, and simplifying his code. You can try some method that he hasn't done before.\\n\\nFor the test, he is outstanding. He got the minimum score at 88 and maximum score at 99, which is brilliant. In overall, he got A from the exam. He did an amazing job on his programming skill improvement, his growth is incredibly increasing. I recommend Kamran Azarnia to try something new, and challenge himself more by improving his code complexity, and simplifying his code. You can try some method that he hasn't done before.\\n\",\n",
       " \"Amina Arthit has a weak in-class behavior. She is required to study more. She completed 30% of the assignment. For the problemset, She might have to talk to me. She didn't get a good score that much. She got the minimum score at 20 and maximum score at 47, which is required to study more. I recommend Amina Arthit to come to talk to me as soon as you have a free time. So I can give you more special problemset to develop your understanding. Additionally, I can make a plan with you to figure out the best way to make you learn better.\\n\\nFor the test, she is brilliant. She got the minimum score at 87 and maximum score at 99, which is absolutely perfect. In overall, she got A from the test. She has to plan in advance for the upcomming test and problemset. So he can use your skill at the highest performance. I recommend Amina Arthit to try to looking for several projects. There are a lot of things that he can do with the computer science. If coding is too easy to you, try to think about optmization and simplicity that can develope your code to be more wonderful and sophisticated.\\n\",\n",
       " \"Bill Gates has a brilliant in-class behavior. He is brilliant. He completed 100% of the assignment. For the problemset, he is well-rounded. He got the minimum score at 100 and maximum score at 100, which is well-rounded. In overall, he got A from the task. He did a good job on studying. He has a good track in overall. Moreover, his progress on coding is good. I recommend Bill Gates to try something new, and challenge himself more by improving his code complexity, and simplifying his code. You can try some method that he hasn't done before.\\n\\nFor the test, he is fantastically awesome. He got the minimum score at 100 and maximum score at 100, which is outstanding. In overall, he got A from the test. He did a good job on studying. He has a good track in overall. Moreover, his progress on coding is good. I recommend Bill Gates to try something new, and challenge himself more by improving his code complexity, and simplifying his code. You can try some method that he hasn't done before.\\n\"]"
      ]
     },
     "execution_count": 143,
     "metadata": {
     },
     "output_type": "execute_result"
    }
   ],
   "source": [
    "def classwork():\n",
    "    people = []\n",
    "    with open('teacher.csv') as fp:\n",
    "        data = csv.reader(fp, delimiter=',')\n",
    "        data = list(data)\n",
    "        header = data[0]\n",
    "        data = data[1:]\n",
    "    end = header.index('Tests')\n",
    "    data = [row[:end+1] for row in data]\n",
    "    for row in data:\n",
    "        row[3] = int(row[3])\n",
    "        row[4] = list(map(int,row[4].strip()[1:-1].split(',')))\n",
    "        row[5] = list(map(int,row[5].strip()[1:-1].split(',')))\n",
    "    for row in data:\n",
    "        #print(row)\n",
    "        text = class_commitment(row) + '\\n'\n",
    "        text += test_recom(row)\n",
    "        text = re.sub(r'[.]+','.',text)\n",
    "        people.append(text)\n",
    "    return people\n",
    "classwork()"
   ]
  },
  {
   "cell_type": "code",
   "execution_count": 104,
   "metadata": {
    "collapsed": false
   },
   "outputs": [
   ],
   "source": [
    "def project(grade, name, additional = None):\n",
    "    '''This function takes in the Banking Project grade and the person\\'s name, returning a short comment on the project grade.'''\n",
    "    import random as random\n",
    "    #All the lists containing adjectives that will be swapped in\n",
    "    padjective = ['flawless','exceptional','particularly outstanding','excellent','well developed','of high quality','had some issues','contained major errors','showed serious gaps in understanding','did not fulfill the requirements', 'showcased little effort', 'was incomplete']\n",
    "    code = ['elegant','creative','professional','efficient','polished','easy to read','was difficult to follow','did not take into account the full instructions','failed to produce some of the correct answers','was practically non-existent','contained cells with several errors','did not include additional options']\n",
    "    writeup = ['skillfully composed','easy to read','advanced yet non-technical','was complete','was minorly technical','explored multiple options fully','unorganized','overly complicated','not fully backed by the code','was extremely minimal','was badly organized and explained','did not mention any options nor develop them']\n",
    "    #The following code fits particular adjectives to a grade on the Banking Project\n",
    "    if grade > 93:\n",
    "        c1 = f'{name}\\'s Banking Project was {padjective[random.randint(0,2)]}'\n",
    "        c2 = f'a grade of {grade}'\n",
    "        c3 = f'The code was {code[random.randint(0,2)]} and the write-up was {writeup[random.randint(0,2)]}'\n",
    "    elif grade > 85:\n",
    "        c1 = f'{name}\\'s Banking Project was {padjective[random.randint(3,5)]}'\n",
    "        c2 = f'a grade of {grade}'\n",
    "        c3 = f'The code was {code[random.randint(3,5)]} and the write-up {writeup[random.randint(3,5)]}'\n",
    "    elif grade > 78:\n",
    "        c1 = f'{name}\\'s Banking Project {padjective[random.randint(6,8)]}'\n",
    "        c2 = f'a grade of {grade}'\n",
    "        c3 = f'The code {code[random.randint(6,8)]} and the write-up was {writeup[random.randint(6,8)]}'\n",
    "    else:\n",
    "        c1 = f'{name}\\'s Banking Project {padjective[random.randint(9,11)]}'\n",
    "        c2 = f'a grade of {grade}'\n",
    "        c3 = f'The code {code[random.randint(9,11)]} and the write-up {writeup[random.randint(9,11)]}'\n",
    "    #This section of code changes up the basic sentences made above to add more structural diversity\n",
    "    n = random.randint(0,2)\n",
    "    if n == 1:\n",
    "        comment = f'{c1}, with {c2}. {c3}.'\n",
    "    elif n == 2:\n",
    "        comment = f'The code for the Banking Project {c3[9::]}, meaning that {c1}. It recieved {c2}.'\n",
    "    else:\n",
    "        c3 = c3.split()\n",
    "        comment = f'Having obtained {c2}, {c1}, with the code being {c3[3]} and the write-up being {c3[-1]}.'\n",
    "    if additional: #Checking to see if any additional information needs to be included\n",
    "        comment = f'{comment} {additional}'\n",
    "    return comment, get_grade(grade)"
   ]
  },
  {
   "cell_type": "code",
   "execution_count": 105,
   "metadata": {
    "collapsed": false
   },
   "outputs": [
   ],
   "source": [
    "def get_grade(num):\n",
    "    '''This function assigns a value based on an assignment grade, num.'''\n",
    "    #These classifications will be used later to make comparisons between grades much simpler\n",
    "    if num > 93:\n",
    "        grade = 4\n",
    "    elif num > 85:\n",
    "        grade = 3\n",
    "    elif num > 78:\n",
    "        grade = 2\n",
    "    else:\n",
    "        grade = 1\n",
    "    return grade"
   ]
  },
  {
   "cell_type": "code",
   "execution_count": 106,
   "metadata": {
    "collapsed": false
   },
   "outputs": [
   ],
   "source": [
    "def meeting(project, teacher, psets, name, pronouns, additional = None):\n",
    "    '''This function takes in the classifications for the Banking Project, teacher meeting rate, problem sets, student name, student pronouns, and any additional information and returns a comment on the student's meeting habits.'''\n",
    "    import random as random\n",
    "    #These are necessary values/lists that will be used later\n",
    "    n = random.randint(0,1)\n",
    "    adjectives = ['regularly','often','frequently','occassionally','infrequently','periodically','rarely','only once in a while','sporadically', 'excellent','great','awesome']\n",
    "    cont = ['however','nevertheless','nonetheless']\n",
    "    #Making basic sentences for higher teacher meeting scores\n",
    "    if teacher > 7: #If the frequency of teacher meetings is better than a seven:\n",
    "        if n == 0: #Adding diversity in the sentences\n",
    "            comment = f'{name} {adjectives[random.randint(0,2)]} meets with me'\n",
    "        else:\n",
    "            comment = f'{name} talks {adjectives[random.randint(0,2)]} with me'\n",
    "    elif teacher >= 5: #Teacher meeting frequency better than or equal to a 5\n",
    "        if n == 0:\n",
    "            comment = f'{name} {adjectives[random.randint(3,5)]} meets with me'\n",
    "        else:\n",
    "            comment = f'{name} talks {adjectives[random.randint(3,5)]} with me'\n",
    "    #Connecting back to the most recent problem set to offer advice\n",
    "    if teacher >= 5: #Generalized to if teacher meetings are often\n",
    "        if abs(teacher - project) > 2: #If there is a big difference between the project grade's clasificaion and teacher meetings then we should use a contrasting conjunction\n",
    "            comment = f'{comment}, {cont[random.randint(0,2)]}'\n",
    "        if project > psets: #If the banking project classification is better than the most recent problem set classification\n",
    "            comment = f'{comment}, which is {adjectives[random.randint(9,11)]}, but {pronouns.split(\"/\")[0]} should talk with {pronouns.split(\"/\")[2]} classmates more often to improve his problem sets.'\n",
    "        elif project == psets:\n",
    "            if project == 4 and psets == 4: #Making sure that this person didn't do perfectly on both the project and the most recent problem set\n",
    "                comment = f'{comment}. This is {adjectives[random.randint(9,11)]} because we have had plenty of opportunities to discuss how to push {name}.'\n",
    "            else:\n",
    "                comment = f'{comment}, which is {adjectives[random.randint(9,11)]}. {pronouns.split(\"/\")[0].title()} should also converse with classmates when working on problem sets to improve these.'\n",
    "        else: #If problem set classification is better than project classification\n",
    "            if n == 0: #Adding sentence diversity\n",
    "                comment = f'{comment}. {name} should seriously consider why {pronouns.split(\"/\")[0]} performed better on the Banking Project than the problem sets.'\n",
    "            else:\n",
    "                comment = f'{comment}. The write-up, as well as the team aspect of the project, seem to be key areas for improvement for {name}.'\n",
    "    #Making basic sentences for lower teacher meeting scores\n",
    "    if teacher >= 3: #If teacher meetings are rare\n",
    "        comment = f'{name} meets with me {adjectives[random.randint(6,8)]}'\n",
    "    elif teacher >= 0: #If teacher meetings are non-existent\n",
    "        comment = f'{name} meets with me {adjectives[random.randint(6,8)]}'\n",
    "    if teacher <= 3:\n",
    "        if abs(teacher - project) > 2:\n",
    "            comment = f'{comment}, {cont[random.randint(0,2)]}'\n",
    "        if project > psets:\n",
    "            comment = f'{comment}. {pronouns.split(\"/\")[0].title()} should meet with me more to discuss how to advance {pronouns.split(\"/\")[2]} computer science skills. Talking with classmates would also help {name} improve {pronouns.split(\"/\")[2]} problem set grades.'\n",
    "        elif project == psets:\n",
    "            if project == 4 and psets == 4:\n",
    "                comment = f'{comment}. By meeting with me, {name} and I could explore ways to push {pronouns.split(\"/\")[1]} and {pronouns.split(\"/\")[2]} abilities.'\n",
    "            else:\n",
    "                comment = f'{comment}. {name} must meet with me more and consider discussing difficult problem set questions with {pronouns.split(\"/\")[2]} classmates.'\n",
    "        else:\n",
    "            comment = f'{comment}. Partner work seems to be an area for improvement for {pronouns.split(\"/\")[1]}, as well as meeting more often with me for assistance.'\n",
    "        if additional: #Adding any additional comments\n",
    "            comment = f'{comment} {additional}'\n",
    "    return comment"
   ]
  },
  {
   "cell_type": "code",
   "execution_count": 155,
   "metadata": {
    "collapsed": false
   },
   "outputs": [
   ],
   "source": [
    "def improvement(project, psets, progress, name, pronouns, additional = None):\n",
    "    '''This function takes in the classifications of the Banking Project and problem set scores of a student, as well as their progress, name, pronouns, and any additional information, and returns a comment on the student\\'s improvement.'''\n",
    "    import random as random\n",
    "    adjectives = ['amazing','fabulous','incredible','marvelous','remarkable','excellent','great','quality']\n",
    "    n = random.randint(0,1)\n",
    "    if project >= 3: #If the Banking Project was high-quality\n",
    "        if progress > 7: #If the student's progress is high\n",
    "            if n == 0: #Sentence diversity\n",
    "                comment = f'Overall, the Banking Project shows the {adjectives[random.randint(0,4)]} progress {name} has been making in Computer Science. {adjectives[random.randint(0,3)].title()} job!'\n",
    "            else:\n",
    "                comment = f'{name} has made {adjectives[random.randint(0,4)]} progress throughout the semester, and I am very proud of {pronouns.split(\"/\")[2]} improvement!'\n",
    "        elif progress >= 5: #If the student's progress is ok\n",
    "            if n == 0:\n",
    "                comment = f'{name}\\'s initiative in the Banking Project is reflected in {pronouns.split(\"/\")[2]} {adjectives[random.randint(5,7)]} progress this semester. {adjectives[random.randint(0,1)].title()} work!'\n",
    "            else:\n",
    "                comment = f'The progress {name} has made throughout the semester can only be described as {adjectives[random.randint(5,7)]}, and I am incredibly proud.'\n",
    "        else: #If the student's progress is bad\n",
    "            if project == 4 and psets == 4:\n",
    "                comment = f'{name} has been doing an {adjectives[random.randint(0,4)]} job this semester. Keep up the great work!'\n",
    "            else:\n",
    "                comment = f'{name} should see me soon to work on improving {pronouns.split(\"/\")[2]} work. Thank you for being in this class!'\n",
    "    else: #If the Banking Project did not go well, check the same progress value as above\n",
    "        if progress > 7:\n",
    "            if n == 0:\n",
    "                comment = f'Though {name}\\'s project wasn\\'t flawless, {pronouns.split(\"/\")[0]} should be proud of the {adjectives[random.randint(5,7)]} progress made throughout the semester.'\n",
    "            else:\n",
    "                comment = f'{name}\\'s progress in Computer Science has been {adjectives[random.randint(5,7)]}, and, depite the Banking Project grade, {pronouns.split(\"/\")[0]} has excellent cause to be proud of his improvement.'\n",
    "        elif progress >= 5:\n",
    "            if n == 0:\n",
    "                comment = f'Despite the difficulties in {name}\\'s project, {pronouns.split(\"/\")[0]} should be proud of the progress made throughout the semester. Thanks for all your hard work!'\n",
    "            else:\n",
    "                comment = f'{name} should definitely be proud of {pronouns.split(\"/\")[2]} {adjectives[random.randint(5,7)]} progress. {adjectives[random.randint(1,3)].title()} work!'\n",
    "        else:\n",
    "            if n == 0:\n",
    "                comment = f'I know {name} has struggled in this class and has done a quality job working on it. '\n",
    "            else:\n",
    "                comment = f'{name} should come talk with me to explore ways to progress in the class, especially as the class gets more complicated.'\n",
    "    return comment"
   ]
  },
  {
   "cell_type": "code",
   "execution_count": 156,
   "metadata": {
    "collapsed": false
   },
   "outputs": [
    {
     "name": "stdout",
     "output_type": "stream",
     "text": [
      "Having obtained a grade of 90, Kanye's Banking Project was of high quality, with the code being efficient and the write-up being complete. Kanye meets with me rarely. Partner work seems to be an area for improvement for him, as well as meeting more often with me for assistance. Kanye and I have great discussions. Overall, the Banking Project shows the amazing progress Kanye has been making in Computer Science. Incredible job!\n",
      "\n",
      "Kamran's Banking Project was well developed, with a grade of 89. The code was easy to read and the write-up was complete. Kamran meets with me sporadically. He should meet with me more to discuss how to advance his computer science skills. Talking with classmates would also help Kamran improve his problem set grades. Overall, the Banking Project shows the amazing progress Kamran has been making in Computer Science. Fabulous job!\n",
      "\n",
      "Amina's Banking Project showcased little effort, with a grade of 68. The code did not include additional options and the write-up was badly organized and explained. Her project was turned in a week late. Amina meets with me only once in a while. Amina must meet with me more and consider discussing difficult problem set questions with her classmates. Amina should come talk with me to explore ways to progress in the class, especially as the class gets more complicated.\n",
      "\n",
      "Bill's Banking Project was flawless, with a grade of 100. The code was elegant and the write-up was skillfully composed. Bill meets with me only once in a while, however. By meeting with me, Bill and I could explore ways to push him and his abilities. Bill has been doing an incredible job this semester. Keep up the great work!\n",
      "\n"
     ]
    }
   ],
   "source": [
    "import csv\n",
    "with open('teacher.csv') as teacher:\n",
    "    data = csv.reader(teacher, delimiter = ',')\n",
    "    people = []\n",
    "    comments = []\n",
    "    for i, row in enumerate(data):\n",
    "            if i == 0:\n",
    "                header = row\n",
    "            else:\n",
    "                psets = row[4].split('[')[1].split(']')[0].split(',')\n",
    "                psets = [int(num) for num in psets]\n",
    "                person = [row[0].split()[0], row[1], int(row[header.index('Projects')]), psets, int(row[header.index('Teacher Meeting')]), int(row[header.index('Progress')]), row[header.index('Add. Info Category')], row[header.index('Additional Info')]]\n",
    "                people.append(person)\n",
    "    for person in people:\n",
    "        if person[-2] == 'Projects':\n",
    "            banking = project(person[2],person[0], person[-1])\n",
    "        else:\n",
    "            banking = project(person[2],person[0])\n",
    "        if person[3][-1] >= sum(person[3])/len(person[3]) or person[3][-1]-person[3][0] >= 0:\n",
    "            pgrade = get_grade(person[3][-1])\n",
    "        else:\n",
    "            pgrade = 1\n",
    "        if person[-2] == 'Teacher Meeting':\n",
    "            teacher = meeting(banking[1], person[4], pgrade, person[0], person[1], person[-1])\n",
    "        else:\n",
    "            teacher = meeting(banking[1], person[4], pgrade, person[0], person[1])\n",
    "        if person[-2] == 'Progress':\n",
    "            progress = improvement(banking[1], pgrade, person[5], person[0], person[1], person[-1])\n",
    "        else:\n",
    "            progress = improvement(banking[1], pgrade, person[5], person[0], person[1])\n",
    "        comments.append(banking[0] + \" \" + teacher + \" \" + progress)\n",
    "        print(banking[0] + \" \" + teacher + \" \" + progress + \"\\n\")"
   ]
  },
  {
   "cell_type": "code",
   "execution_count": 161,
   "metadata": {
    "collapsed": false
   },
   "outputs": [
   ],
   "source": [
    "peeps = classwork()\n",
    "docs = ['kanye.txt','kamran.txt','amina.txt','bill.txt']\n",
    "for i in range(len(peeps)):\n",
    "    with open(docs[i], 'w') as person:\n",
    "        person.write(classdescription+'\\n'+peeps[i]+comments[i])"
   ]
  },
  {
   "cell_type": "code",
   "execution_count": 162,
   "metadata": {
    "collapsed": false
   },
   "outputs": [
    {
     "name": "stdout",
     "output_type": "stream",
     "text": [
      "In Computer Science second semester, we focused on data science rather than simply working on the students' python skills. In five units, we covered linear regressions, natural language processing, naive bayes algorithms, standard variable decomposition, and pandas. For every unit, the students had one week to work on a non-graded assignment introducing the material, and the next week would spend their time on a problem set before a handwritten test on that Friday. Our only project this semester was one in which the students had to use code to simulate thousands of bank service days and offer solutions for lowering the wait time of patrons.\n",
      "\n",
      "Kanye West has a wonderful ethic. He is not bad. He completed 70% of the assignment. For the problemset, he is very good. He got the minimum score at 70 and maximum score at 94, which is really good. In overall, he got B from the task. He has to keep studying a little bit. I also saw his commitment in his heart. However, it would be better to avoid the same mistake by taking note and coding repeatly. I believe that you can improve more. I recommend Kanye West to try to do more task for deeply understanding. If you have a question, stop by my office so I can give you some simple example that you can understand better.\n",
      "\n",
      "\n",
      "\n",
      "For the test, he is nice. He got the minimum score at 78 and maximum score at 98, which is really good. In overall, he got B from the exam. He is fantansic on his coding skill development. His growth is amazingly increasing. I recommend Kanye West to try to do more task for deeply understanding. If you have a question, stop by my office so I can give you some simple example that you can understand better.\n",
      "\n",
      "Having obtained a grade of 90, Kanye's Banking Project was of high quality, with the code being efficient and the write-up being complete. Kanye meets with me rarely. Partner work seems to be an area for improvement for him, as well as meeting more often with me for assistance. Kanye and I have great discussions. Overall, the Banking Project shows the amazing progress Kanye has been making in Computer Science. Incredible job!\n"
     ]
    }
   ],
   "source": [
    "with open('kanye.txt') as k:\n",
    "    for line in k.readlines():\n",
    "        print(line)"
   ]
  },
  {
   "cell_type": "code",
   "execution_count": 0,
   "metadata": {
    "collapsed": false
   },
   "outputs": [
   ],
   "source": [
   ]
  }
 ],
 "metadata": {
  "kernelspec": {
   "display_name": "Python 3 (system-wide)",
   "language": "python",
   "metadata": {
    "cocalc": {
     "description": "Python 3 programming language",
     "priority": 100,
     "url": "https://www.python.org/"
    }
   },
   "name": "python3"
  },
  "language_info": {
   "codemirror_mode": {
    "name": "ipython",
    "version": 3
   },
   "file_extension": ".py",
   "mimetype": "text/x-python",
   "name": "python",
   "nbconvert_exporter": "python",
   "pygments_lexer": "ipython3",
   "version": "3.6.9"
  }
 },
 "nbformat": 4,
 "nbformat_minor": 0
}